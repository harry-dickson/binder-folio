{
 "cells": [
  {
   "cell_type": "code",
   "execution_count": null,
   "id": "0e02cade",
   "metadata": {},
   "outputs": [],
   "source": [
    "from bokeh.io import output_notebook, push_notebook\n",
    "\n",
    "\n",
    "output_notebook()\n",
    "\n"
   ]
  },
  {
   "cell_type": "code",
   "execution_count": null,
   "id": "c2df766b",
   "metadata": {},
   "outputs": [],
   "source": [
    "from bokeh.plotting import figure\n",
    "from jupyter_bokeh import BokehModel\n",
    "\n",
    "p = figure(sizing_mode=\"stretch_width\", height=400)\n",
    "line = p.line(x=[100,200,300], y=[100, 200, 600])\n",
    "\n",
    "import ipywidgets as widgets\n",
    "yslider = widgets.IntSlider(value=200,min=-600,max=1200)\n",
    "label = widgets.Label(value=\"\")\n",
    "display(widgets.HBox([yslider,label]))\n",
    "def dy(change):\n",
    "    line.data_source.data['y']=[100, change.new, 600]\n",
    "    label.value = str(line.data_source.data['y'])\n",
    "\n",
    "yslider.observe(dy, names=\"value\")\n",
    "display(BokehModel(p))\n"
   ]
  },
  {
   "cell_type": "code",
   "execution_count": null,
   "id": "dd929959-e710-4fea-806a-38a6e2a4b9d8",
   "metadata": {},
   "outputs": [],
   "source": []
  }
 ],
 "metadata": {
  "kernelspec": {
   "display_name": "Python 3 (ipykernel)",
   "language": "python",
   "name": "python3"
  },
  "language_info": {
   "codemirror_mode": {
    "name": "ipython",
    "version": 3
   },
   "file_extension": ".py",
   "mimetype": "text/x-python",
   "name": "python",
   "nbconvert_exporter": "python",
   "pygments_lexer": "ipython3",
   "version": "3.11.9"
  }
 },
 "nbformat": 4,
 "nbformat_minor": 5
}
