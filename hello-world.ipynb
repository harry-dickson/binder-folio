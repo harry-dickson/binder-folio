{
 "cells": [
  {
   "cell_type": "markdown",
   "id": "652766c7",
   "metadata": {},
   "source": [
    "## Binder 001"
   ]
  },
  {
   "cell_type": "code",
   "execution_count": null,
   "id": "cb7a42c2",
   "metadata": {},
   "outputs": [],
   "source": [
    "print(\"hello world\")"
   ]
  }
 ],
 "metadata": {
  "language_info": {
   "name": "python"
  }
 },
 "nbformat": 4,
 "nbformat_minor": 5
}
